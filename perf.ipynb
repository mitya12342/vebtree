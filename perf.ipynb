{
 "cells": [
  {
   "cell_type": "code",
   "execution_count": null,
   "metadata": {},
   "outputs": [],
   "source": [
    "import pandas as pd\n",
    "from matplotlib import pyplot as plt\n",
    "import numpy as np"
   ]
  },
  {
   "cell_type": "code",
   "execution_count": null,
   "metadata": {},
   "outputs": [],
   "source": [
    "cols = [\"size\", \"creation_time\", \"1km\", \"1ks\", \"1kp\", \"10km\", \"10ks\", \"10kp\", \"100km\", \"100ks\", \"100kp\", \"destruction_time\"]\n",
    "df = pd.DataFrame([[float(j) for j in i.split()] for i in open(\"perf.txt\",\"r\")], columns=cols)"
   ]
  },
  {
   "cell_type": "code",
   "execution_count": null,
   "metadata": {},
   "outputs": [],
   "source": [
    "fig, ax1 = plt.subplots(figsize=(10,5))\n",
    "ax1.plot(df[\"size\"],df[\"1km\"], label=\"1 тыс.\")\n",
    "ax1.plot(df[\"size\"],df[\"10km\"], label=\"10 тыс.\")\n",
    "ax1.plot(df[\"size\"],df[\"100km\"], label=\"100 тыс.\")\n",
    "ax1.legend(title=\"Количество хранимых элементов\")\n",
    "ax1.set_ylabel('Среднее время на операцию (ns)')\n",
    "ax1.set_xlabel('Размерность дерева (2^n элементов)')\n",
    "ax1.set_title('member')\n",
    "ax1.xaxis.set_ticks(df[\"size\"], df[\"size\"].apply(lambda x:int(np.log2(x))))\n",
    "fig.savefig(\"plots/member.png\")\n",
    "\n",
    "fig, ax1 = plt.subplots(figsize=(10,5))\n",
    "ax1.plot(df[\"size\"],df[\"1ks\"], label=\"1 тыс.\")\n",
    "ax1.plot(df[\"size\"],df[\"10ks\"], label=\"10 тыс.\")\n",
    "ax1.plot(df[\"size\"],df[\"100ks\"], label=\"100 тыс.\")\n",
    "ax1.legend(title=\"Количество хранимых элементов\")\n",
    "ax1.set_ylabel('Среднее время на операцию (ns)')\n",
    "ax1.set_xlabel('Размерность дерева (2^n элементов)')\n",
    "ax1.set_title('successor')\n",
    "ax1.xaxis.set_ticks(df[\"size\"], df[\"size\"].apply(lambda x:int(np.log2(x))))\n",
    "fig.savefig(\"plots/successor.png\")\n",
    "\n",
    "fig, ax1 = plt.subplots(figsize=(10,5))\n",
    "ax1.plot(df[\"size\"],df[\"1kp\"], label=\"1 тыс.\")\n",
    "ax1.plot(df[\"size\"],df[\"10kp\"], label=\"10 тыс.\")\n",
    "ax1.plot(df[\"size\"],df[\"100kp\"], label=\"100 тыс.\")\n",
    "ax1.legend(title=\"Количество хранимых элементов\")\n",
    "ax1.set_ylabel('Среднее время на операцию (ns)')\n",
    "ax1.set_xlabel('Размерность дерева (2^n элементов)')\n",
    "ax1.set_title('predecessor')\n",
    "ax1.xaxis.set_ticks(df[\"size\"], df[\"size\"].apply(lambda x:int(np.log2(x))))\n",
    "fig.savefig(\"plots/predecessor.png\")\n"
   ]
  },
  {
   "cell_type": "code",
   "execution_count": null,
   "metadata": {},
   "outputs": [],
   "source": [
    "fig, ax1 = plt.subplots()\n",
    "ax1.plot(df[\"size\"],df[\"creation_time\"], label=\"Создание\")\n",
    "ax1.plot(df[\"size\"],df[\"destruction_time\"], label=\"Разрушение\")\n",
    "ax1.legend()\n",
    "ax1.set_ylabel('Время (ms)')\n",
    "ax1.set_xlabel('Размерность дерева (2^n элементов)')\n",
    "ax1.set_title('Время создания/разрушения')\n",
    "ax1.xaxis.set_ticks(df[\"size\"], df[\"size\"].apply(lambda x:int(np.log2(x))))\n",
    "fig.savefig(\"plots/cr-des.png\")"
   ]
  }
 ],
 "metadata": {
  "kernelspec": {
   "display_name": "Python 3.9.13 64-bit",
   "language": "python",
   "name": "python3"
  },
  "language_info": {
   "codemirror_mode": {
    "name": "ipython",
    "version": 3
   },
   "file_extension": ".py",
   "mimetype": "text/x-python",
   "name": "python",
   "nbconvert_exporter": "python",
   "pygments_lexer": "ipython3",
   "version": "3.9.13"
  },
  "orig_nbformat": 4,
  "vscode": {
   "interpreter": {
    "hash": "dd15528ce571f767e6e4a36c719ce5f1f3eeecfa4b1628ec296be0e85b9ec2e1"
   }
  }
 },
 "nbformat": 4,
 "nbformat_minor": 2
}
